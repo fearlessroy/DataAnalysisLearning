{
 "cells": [
  {
   "cell_type": "code",
   "execution_count": 3,
   "metadata": {},
   "outputs": [
    {
     "name": "stdout",
     "output_type": "stream",
     "text": [
      "房价预测结果:  [18.792      10.40487805 13.78387097 17.83138298 23.22256098 21.61666667\n",
      " 27.71709845 18.33920455 32.12515723 19.52439024 28.68795181 32.92980769\n",
      " 11.72340426 24.22066116 12.60181818 23.78571429 17.83138298 16.96829268\n",
      " 27.8        24.11111111 17.83138298 18.19431818 18.19431818 18.96521739\n",
      " 32.61975309 18.50044444 23.22256098 23.78571429 11.72340426 29.17189542\n",
      " 17.83138298 26.84482759 10.40487805 20.79047619 24.72211538 32.61975309\n",
      " 23.9942029  11.37       14.58787879 24.72211538 16.54074074 11.72340426\n",
      " 28.68795181 17.83138298 25.54319249 18.6037037  17.83138298 18.89134615\n",
      " 26.0970339  19.52439024 17.83138298 33.27241379 17.51627907 17.51627907\n",
      " 23.22256098 20.12022901 23.22256098 17.51627907 24.11111111 22.2\n",
      " 18.652      17.56470588 47.21578947 21.30178571 17.73333333 26.0970339\n",
      " 24.72211538 10.68181818 17.95384615 27.44444444 21.61666667 18.50044444\n",
      " 17.93571429 27.6468254  19.43571429 46.02307692 16.96829268 10.68181818\n",
      " 17.83138298 23.87720588 20.35240385 14.9875     11.52826087 23.87720588\n",
      " 20.09698113 21.60696203 47.96470588 17.15833333 44.76       31.38387097\n",
      " 28.65217391 18.50044444 18.50044444 17.83138298 16.26296296 33.36666667\n",
      " 23.22256098 21.60696203 18.33920455 18.19431818 15.53636364 20.09698113\n",
      " 26.20192308 23.87720588 11.52826087 17.51627907 11.52826087 24.72211538\n",
      " 12.53488372 25.54319249 50.         12.53488372 17.51627907 23.87720588\n",
      " 32.12515723 23.22256098 21.60696203 20.52962963 27.6468254  20.94022989\n",
      " 20.12022901 17.83138298 13.08653846 20.94022989 21.61666667 17.83138298\n",
      " 46.02307692]\n",
      "均方误差 = 17.87\n"
     ]
    }
   ],
   "source": [
    "from sklearn.model_selection import train_test_split\n",
    "from sklearn.metrics import mean_squared_error\n",
    "from sklearn.datasets import load_boston\n",
    "from sklearn.ensemble import AdaBoostRegressor\n",
    "from sklearn.tree import DecisionTreeRegressor\n",
    "from sklearn.neighbors import KNeighborsRegressor\n",
    "\n",
    "\n",
    "# 加载数据\n",
    "data = load_boston()\n",
    "# 分割数据\n",
    "train_x,test_x,train_y,test_y = train_test_split(data.data,data.target,test_size = 0.25,random_state=33)\n",
    "# 使用 AdaBoost 回归模型\n",
    "regressor = AdaBoostRegressor()\n",
    "regressor.fit(train_x,train_y)\n",
    "pred_y = regressor.predict(test_x)\n",
    "mse = mean_squared_error(test_y,pred_y)\n",
    "print(\"房价预测结果: \",pred_y)\n",
    "print(\"均方误差 =\",round(mse,2))"
   ]
  },
  {
   "cell_type": "markdown",
   "metadata": {},
   "source": [
    "AdaBoostClassifier 分类器 AdaBoostClassifier(base_estimator = None,n_estimators = 50,learning_rate=1.0,algorithm='SAMME.R',random_state=None) \n",
    "1. base_estimator: 代表的是弱分类器，在 AdaBoost 的分类器和回归器中都有这个参数，在 AdaBoost 中默认使用的是 决策树。\n",
    "2. n_estimators：算法的最大迭代次数，也就是分类器的个数，每一次迭代都会引入一个新的弱分类器来增加原有的分类器的组合能力。默认是 50。\n",
    "3. learning_rate：代表学习率，取值在 0-1 之间，默认是1.0。如果学习率比较小，就需要比较多的迭代次数才能收敛，也就是说学习率和迭代次数是有相关性的。\n",
    "4. algorithm：代表采用哪种 boosting 算法，一共有两种选择：SAMME 和 SAMME.R，默认是 SAMME.R，这两者之间的区别是在于对 弱分类权重的计算方式不同。\n",
    "5. random_state：代表随机数种子的设置，默认是 None。随机种子是用来控制随机模式的，当随机种子去了一个值，也就确定了一种随机规则，其他人去这个值可以得到同样的结果。           \n",
    "\n",
    "AdaBoost 回归，AdaBoostClassifier(base_estimator = None,n_estimators = 50,learning_rate=1.0,loss='linear',random_state=None)           \n",
    "回归和分类的参数基本上是一致的，不同点在于回归算法中没有 algorithm 这个参数，但多了一个 loss 参数。        \n",
    "loss 代表损失函数的设置，一共 3 中选择，分别为 linear，square 和 exponential，它们的含义分别是 线性，平方和指数。默认是线性。"
   ]
  },
  {
   "cell_type": "code",
   "execution_count": 4,
   "metadata": {},
   "outputs": [
    {
     "name": "stdout",
     "output_type": "stream",
     "text": [
      "决策树均方误差 =  37.73\n",
      "KNN 均方误差 =  27.77\n"
     ]
    }
   ],
   "source": [
    "# 使用决策树回归模型\n",
    "dec_regressor = DecisionTreeRegressor()\n",
    "dec_regressor.fit(train_x,train_y)\n",
    "pred_y = dec_regressor.predict(test_x)\n",
    "mse = mean_squared_error(test_y,pred_y)\n",
    "print(\"决策树均方误差 = \",round(mse,2))\n",
    "\n",
    "# 使用 KNN 回归模型\n",
    "knn_regressor = KNeighborsRegressor()\n",
    "knn_regressor.fit(train_x,train_y)\n",
    "pred_y = knn_regressor.predict(test_x)\n",
    "mse = mean_squared_error(test_y,pred_y)\n",
    "print(\"KNN 均方误差 = \",round(mse,2))"
   ]
  },
  {
   "cell_type": "code",
   "execution_count": 9,
   "metadata": {},
   "outputs": [
    {
     "data": {
      "image/png": "[encoded data removed]",
      "text/plain": [
       "<Figure size 432x288 with 1 Axes>"
      ]
     },
     "metadata": {
      "needs_background": "light"
     },
     "output_type": "display_data"
    }
   ],
   "source": [
    "import numpy as np\n",
    "import matplotlib.pyplot as plt\n",
    "from sklearn import datasets\n",
    "from sklearn.tree import DecisionTreeClassifier\n",
    "from sklearn.ensemble import AdaBoostClassifier\n",
    "from sklearn.metrics import zero_one_loss\n",
    "# 设置 AdaBoost 迭代次数\n",
    "n_estimators = 200\n",
    "# 使用\n",
    "X,y=datasets.make_hastie_10_2(n_samples=12000,random_state=1)\n",
    "# 从 12000 个数据中取前 2000 行作为测试集，其余作为训练集\n",
    "test_x ,test_y = X[2000:],y[2000:]\n",
    "train_x,train_y = X[:2000],y[:2000]\n",
    "\n",
    "# 弱分类器\n",
    "dt_stump = DecisionTreeClassifier(max_depth =1,min_samples_leaf=1)\n",
    "dt_stump.fit(train_x,train_y)\n",
    "dt_stump_err = 1.0-dt_stump.score(test_x,test_y)\n",
    "\n",
    "# 决策树分类器\n",
    "dt = DecisionTreeClassifier()\n",
    "dt.fit(train_x,train_y)\n",
    "dt_err=1.0-dt.score(test_x,test_y)\n",
    "\n",
    "# AdaBoost 分离器\n",
    "ada = AdaBoostClassifier(base_estimator = dt_stump,n_estimators=n_estimators)\n",
    "ada.fit(train_x,train_y)\n",
    "\n",
    "# 三个分类器的错误可视化\n",
    "flg = plt.figure()\n",
    "# 设置 plt 正确显示中文\n",
    "plt.rcParams['font.sans-serif'] = ['SimHei']\n",
    "ax = flg.add_subplot(111)\n",
    "\n",
    "ax.plot([1,n_estimators],[dt_stump_err]*2,'k-',label='决策树弱分类器 错误率')\n",
    "ax.plot([1,n_estimators],[dt_err]*2,'k--',label='决策树模型 错误率')\n",
    "ada_err =np.zeros((n_estimators,))\n",
    "\n",
    "# 遍历每次迭代的结果 i 为迭代次数， pred_y 为预测结果\n",
    "for i,pred_y in enumerate(ada.staged_predict(test_x)):\n",
    "    # 统计错误率\n",
    "    ada_err[i]=zero_one_loss(pred_y,test_y)\n",
    "# 绘制每次迭代的 AdaBoost 错误率\n",
    "ax.plot(np.arange(n_estimators)+1,ada_err,label='AdaBoost Test 错误率',color='orange')\n",
    "ax.set_xlabel('迭代次数')\n",
    "ax.set_ylabel('错误率')\n",
    "leg=ax.legend(loc='upper right',fancybox=True)\n",
    "plt.show()"
   ]
  },
  {
   "cell_type": "code",
   "execution_count": null,
   "metadata": {},
   "outputs": [],
   "source": []
  }
 ],
 "metadata": {
  "kernelspec": {
   "display_name": "Python 3",
   "language": "python",
   "name": "python3"
  },
  "language_info": {
   "codemirror_mode": {
    "name": "ipython",
    "version": 3
   },
   "file_extension": ".py",
   "mimetype": "text/x-python",
   "name": "python",
   "nbconvert_exporter": "python",
   "pygments_lexer": "ipython3",
   "version": "3.7.2"
  },
  "toc": {
   "base_numbering": 1,
   "nav_menu": {},
   "number_sections": true,
   "sideBar": true,
   "skip_h1_title": false,
   "title_cell": "Table of Contents",
   "title_sidebar": "Contents",
   "toc_cell": false,
   "toc_position": {},
   "toc_section_display": true,
   "toc_window_display": false
  }
 },
 "nbformat": 4,
 "nbformat_minor": 2
}
