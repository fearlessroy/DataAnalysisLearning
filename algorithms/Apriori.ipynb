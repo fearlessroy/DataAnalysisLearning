{
 "cells": [
  {
   "cell_type": "code",
   "execution_count": 2,
   "metadata": {},
   "outputs": [
    {
     "name": "stdout",
     "output_type": "stream",
     "text": [
      "{1: {('啤酒',): 3, ('尿布',): 5, ('牛奶',): 4, ('面包',): 4}, 2: {('啤酒', '尿布'): 3, ('尿布', '牛奶'): 4, ('尿布', '面包'): 4, ('牛奶', '面包'): 3}, 3: {('尿布', '牛奶', '面包'): 3}}\n",
      "[{啤酒} -> {尿布}, {牛奶} -> {尿布}, {面包} -> {尿布}, {牛奶, 面包} -> {尿布}]\n"
     ]
    }
   ],
   "source": [
    "# -*-conding:utf-8\n",
    "from efficient_apriori import apriori\n",
    "import csv\n",
    "# 设置数据集\n",
    "data=[('牛奶','面包','尿布'),\n",
    "      ('可乐','面包','尿布','啤酒'),\n",
    "      ('牛奶','尿布','啤酒','鸡蛋'),\n",
    "      ('面包','牛奶','尿布','啤酒'),\n",
    "      ('面包','牛奶','尿布','可乐')]\n",
    "# 挖掘频繁项集和频繁规则\n",
    "itemsets,rules=apriori(data,min_support=0.5,min_confidence=1)\n",
    "print(itemsets)\n",
    "print(rules)"
   ]
  },
  {
   "cell_type": "code",
   "execution_count": 8,
   "metadata": {},
   "outputs": [
    {
     "name": "stdout",
     "output_type": "stream",
     "text": [
      "{1: {('徐峥',): 5, ('黄渤',): 6}, 2: {('徐峥', '黄渤'): 5}}\n",
      "[{徐峥} -> {黄渤}]\n"
     ]
    }
   ],
   "source": [
    "director='宁浩'\n",
    "file_name = '/Users/wangyunfei/Desktop/Data/' + director + '.csv'\n",
    "lists=csv.reader(open(file_name,'r',encoding='utf-8-sig'))\n",
    "# 数据加载\n",
    "data = []\n",
    "for names in lists:\n",
    "    name_new=[]\n",
    "    for name in names:\n",
    "        if name != '':\n",
    "            name_new.append(name.strip())\n",
    "    data.append(name_new[1:])\n",
    "#print(data)\n",
    "# 挖掘频繁项集和关联规则\n",
    "itemsets,rules=apriori(data,min_support=0.4,min_confidence=1)\n",
    "print(itemsets)\n",
    "print(rules)"
   ]
  }
 ],
 "metadata": {
  "kernelspec": {
   "display_name": "Python 3",
   "language": "python",
   "name": "python3"
  },
  "language_info": {
   "codemirror_mode": {
    "name": "ipython",
    "version": 3
   },
   "file_extension": ".py",
   "mimetype": "text/x-python",
   "name": "python",
   "nbconvert_exporter": "python",
   "pygments_lexer": "ipython3",
   "version": "3.7.2"
  }
 },
 "nbformat": 4,
 "nbformat_minor": 2
}
