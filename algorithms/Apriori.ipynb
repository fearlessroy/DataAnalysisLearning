{
 "cells": [
  {
   "cell_type": "markdown",
   "metadata": {},
   "source": [
    "使用 efficient-apriori，需要通过 pip install efficient-apriori 安装这个包"
   ]
  },
  {
   "cell_type": "code",
   "execution_count": 1,
   "metadata": {},
   "outputs": [],
   "source": [
    "# -*-conding:utf-8\n",
    "from efficient_apriori import apriori\n",
    "import csv"
   ]
  },
  {
   "cell_type": "markdown",
   "metadata": {},
   "source": [
    "设置数据集"
   ]
  },
  {
   "cell_type": "code",
   "execution_count": 2,
   "metadata": {},
   "outputs": [],
   "source": [
    "data=[('牛奶','面包','尿布'),\n",
    "      ('可乐','面包','尿布','啤酒'),\n",
    "      ('牛奶','尿布','啤酒','鸡蛋'),\n",
    "      ('面包','牛奶','尿布','啤酒'),\n",
    "      ('面包','牛奶','尿布','可乐')]"
   ]
  },
  {
   "cell_type": "markdown",
   "metadata": {},
   "source": [
    "挖掘频繁项集和频繁规则          \n",
    "itemsets, rules = apriori(data, min_support,  min_confidence)          \n",
    "* data 是我们要提供的数据集，它是一个 list 数组类型\n",
    "* min_support 参数为最小支持度，用 0-1 的数值代表百分比\n",
    "* min_confidence 是最小置信度，数值也代表百分比"
   ]
  },
  {
   "cell_type": "code",
   "execution_count": 6,
   "metadata": {},
   "outputs": [],
   "source": [
    "itemsets,rules=apriori(data,min_support=0.5,min_confidence=1)"
   ]
  },
  {
   "cell_type": "code",
   "execution_count": 7,
   "metadata": {},
   "outputs": [
    {
     "data": {
      "text/plain": [
       "{1: {('啤酒',): 3, ('尿布',): 5, ('牛奶',): 4, ('面包',): 4},\n",
       " 2: {('啤酒', '尿布'): 3, ('尿布', '牛奶'): 4, ('尿布', '面包'): 4, ('牛奶', '面包'): 3},\n",
       " 3: {('尿布', '牛奶', '面包'): 3}}"
      ]
     },
     "execution_count": 7,
     "metadata": {},
     "output_type": "execute_result"
    }
   ],
   "source": [
    "itemsets"
   ]
  },
  {
   "cell_type": "code",
   "execution_count": 8,
   "metadata": {},
   "outputs": [
    {
     "data": {
      "text/plain": [
       "[{啤酒} -> {尿布}, {牛奶} -> {尿布}, {面包} -> {尿布}, {牛奶, 面包} -> {尿布}]"
      ]
     },
     "execution_count": 8,
     "metadata": {},
     "output_type": "execute_result"
    }
   ],
   "source": [
    "rules"
   ]
  },
  {
   "cell_type": "code",
   "execution_count": 9,
   "metadata": {},
   "outputs": [
    {
     "name": "stdout",
     "output_type": "stream",
     "text": [
      "{1: {('徐峥',): 5, ('黄渤',): 6}, 2: {('徐峥', '黄渤'): 5}}\n",
      "[{徐峥} -> {黄渤}]\n"
     ]
    }
   ],
   "source": [
    "director = '宁浩'\n",
    "file_name = './Data/' + director + '.csv'\n",
    "lists=csv.reader(open(file_name,'r',encoding='utf-8-sig'))\n",
    "# 数据加载\n",
    "data = []\n",
    "for names in lists:\n",
    "    name_new=[]\n",
    "    for name in names:\n",
    "        if name != '':\n",
    "            name_new.append(name.strip())\n",
    "    data.append(name_new[1:])\n",
    "#print(data)\n",
    "# 挖掘频繁项集和关联规则\n",
    "itemsets,rules=apriori(data,min_support=0.4,min_confidence=1)\n",
    "print(itemsets)\n",
    "print(rules)"
   ]
  }
 ],
 "metadata": {
  "kernelspec": {
   "display_name": "Python 3",
   "language": "python",
   "name": "python3"
  },
  "language_info": {
   "codemirror_mode": {
    "name": "ipython",
    "version": 3
   },
   "file_extension": ".py",
   "mimetype": "text/x-python",
   "name": "python",
   "nbconvert_exporter": "python",
   "pygments_lexer": "ipython3",
   "version": "3.7.2"
  },
  "toc": {
   "base_numbering": 1.0,
   "nav_menu": {},
   "number_sections": true,
   "sideBar": true,
   "skip_h1_title": false,
   "title_cell": "Table of Contents",
   "title_sidebar": "Contents",
   "toc_cell": false,
   "toc_position": {},
   "toc_section_display": true,
   "toc_window_display": false
  }
 },
 "nbformat": 4,
 "nbformat_minor": 2
}
