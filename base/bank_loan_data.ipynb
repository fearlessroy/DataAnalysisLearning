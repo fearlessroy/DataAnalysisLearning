{
 "cells": [
  {
   "cell_type": "markdown",
   "metadata": {},
   "source": [
    "## 银行数据分析师 坏账率"
   ]
  },
  {
   "cell_type": "code",
   "execution_count": 4,
   "metadata": {},
   "outputs": [
    {
     "name": "stdout",
     "output_type": "stream",
     "text": [
      "<class 'pandas.core.frame.DataFrame'>\n",
      "RangeIndex: 150000 entries, 0 to 149999\n",
      "Data columns (total 6 columns):\n",
      "用户ID    150000 non-null int64\n",
      "好坏客户    150000 non-null int64\n",
      "年龄      150000 non-null int64\n",
      "负债率     150000 non-null float64\n",
      "月收入     120269 non-null float64\n",
      "家属数量    146076 non-null float64\n",
      "dtypes: float64(3), int64(3)\n",
      "memory usage: 6.9 MB\n",
      "<class 'pandas.core.frame.DataFrame'>\n",
      "RangeIndex: 150000 entries, 0 to 149999\n",
      "Data columns (total 6 columns):\n",
      "用户ID    150000 non-null int64\n",
      "好坏客户    150000 non-null int64\n",
      "年龄      150000 non-null int64\n",
      "负债率     150000 non-null float64\n",
      "月收入     150000 non-null float64\n",
      "家属数量    146076 non-null float64\n",
      "dtypes: float64(3), int64(3)\n",
      "memory usage: 6.9 MB\n"
     ]
    },
    {
     "data": {
      "text/html": [
       "<div>\n",
       "<style scoped>\n",
       "    .dataframe tbody tr th:only-of-type {\n",
       "        vertical-align: middle;\n",
       "    }\n",
       "\n",
       "    .dataframe tbody tr th {\n",
       "        vertical-align: top;\n",
       "    }\n",
       "\n",
       "    .dataframe thead th {\n",
       "        text-align: right;\n",
       "    }\n",
       "</style>\n",
       "<table border=\"1\" class=\"dataframe\">\n",
       "  <thead>\n",
       "    <tr style=\"text-align: right;\">\n",
       "      <th></th>\n",
       "      <th>用户ID</th>\n",
       "      <th>好坏客户</th>\n",
       "      <th>年龄</th>\n",
       "      <th>负债率</th>\n",
       "      <th>月收入</th>\n",
       "      <th>家属数量</th>\n",
       "    </tr>\n",
       "  </thead>\n",
       "  <tbody>\n",
       "    <tr>\n",
       "      <th>count</th>\n",
       "      <td>150000.000000</td>\n",
       "      <td>150000.000000</td>\n",
       "      <td>150000.000000</td>\n",
       "      <td>150000.000000</td>\n",
       "      <td>1.500000e+05</td>\n",
       "      <td>146076.000000</td>\n",
       "    </tr>\n",
       "    <tr>\n",
       "      <th>mean</th>\n",
       "      <td>75000.500000</td>\n",
       "      <td>0.066840</td>\n",
       "      <td>52.295207</td>\n",
       "      <td>353.005076</td>\n",
       "      <td>6.670221e+03</td>\n",
       "      <td>0.757222</td>\n",
       "    </tr>\n",
       "    <tr>\n",
       "      <th>std</th>\n",
       "      <td>43301.414527</td>\n",
       "      <td>0.249746</td>\n",
       "      <td>14.771866</td>\n",
       "      <td>2037.818523</td>\n",
       "      <td>1.288045e+04</td>\n",
       "      <td>1.115086</td>\n",
       "    </tr>\n",
       "    <tr>\n",
       "      <th>min</th>\n",
       "      <td>1.000000</td>\n",
       "      <td>0.000000</td>\n",
       "      <td>0.000000</td>\n",
       "      <td>0.000000</td>\n",
       "      <td>0.000000e+00</td>\n",
       "      <td>0.000000</td>\n",
       "    </tr>\n",
       "    <tr>\n",
       "      <th>25%</th>\n",
       "      <td>37500.750000</td>\n",
       "      <td>0.000000</td>\n",
       "      <td>41.000000</td>\n",
       "      <td>0.175074</td>\n",
       "      <td>3.903000e+03</td>\n",
       "      <td>0.000000</td>\n",
       "    </tr>\n",
       "    <tr>\n",
       "      <th>50%</th>\n",
       "      <td>75000.500000</td>\n",
       "      <td>0.000000</td>\n",
       "      <td>52.000000</td>\n",
       "      <td>0.366508</td>\n",
       "      <td>6.600000e+03</td>\n",
       "      <td>0.000000</td>\n",
       "    </tr>\n",
       "    <tr>\n",
       "      <th>75%</th>\n",
       "      <td>112500.250000</td>\n",
       "      <td>0.000000</td>\n",
       "      <td>63.000000</td>\n",
       "      <td>0.868254</td>\n",
       "      <td>7.400000e+03</td>\n",
       "      <td>1.000000</td>\n",
       "    </tr>\n",
       "    <tr>\n",
       "      <th>max</th>\n",
       "      <td>150000.000000</td>\n",
       "      <td>1.000000</td>\n",
       "      <td>109.000000</td>\n",
       "      <td>329664.000000</td>\n",
       "      <td>3.008750e+06</td>\n",
       "      <td>20.000000</td>\n",
       "    </tr>\n",
       "  </tbody>\n",
       "</table>\n",
       "</div>"
      ],
      "text/plain": [
       "                用户ID           好坏客户             年龄            负债率  \\\n",
       "count  150000.000000  150000.000000  150000.000000  150000.000000   \n",
       "mean    75000.500000       0.066840      52.295207     353.005076   \n",
       "std     43301.414527       0.249746      14.771866    2037.818523   \n",
       "min         1.000000       0.000000       0.000000       0.000000   \n",
       "25%     37500.750000       0.000000      41.000000       0.175074   \n",
       "50%     75000.500000       0.000000      52.000000       0.366508   \n",
       "75%    112500.250000       0.000000      63.000000       0.868254   \n",
       "max    150000.000000       1.000000     109.000000  329664.000000   \n",
       "\n",
       "                月收入           家属数量  \n",
       "count  1.500000e+05  146076.000000  \n",
       "mean   6.670221e+03       0.757222  \n",
       "std    1.288045e+04       1.115086  \n",
       "min    0.000000e+00       0.000000  \n",
       "25%    3.903000e+03       0.000000  \n",
       "50%    6.600000e+03       0.000000  \n",
       "75%    7.400000e+03       1.000000  \n",
       "max    3.008750e+06      20.000000  "
      ]
     },
     "execution_count": 4,
     "metadata": {},
     "output_type": "execute_result"
    }
   ],
   "source": [
    "import pandas as pd\n",
    "import matplotlib.pyplot as plt\n",
    "# 让图表直接在 Jupyter Notebook 中展示出来\n",
    "%matplotlib inline\n",
    "\n",
    "# 解决中文乱码问题\n",
    "plt.rcParams['font.sans-serif'] = ['SimHei']\n",
    "\n",
    "# 解决负号无法正常显示的问题\n",
    "plt.rcParams['axes.unicode_minus'] = False\n",
    "\n",
    "# 将图表设置成矢量图格式显示\n",
    "% config InlineBackend.figure_format = 'svg'\n",
    "\n",
    "\n",
    "\n",
    "data = pd.read_csv('./loan.csv',encoding='gbk')\n",
    "data.info()\n",
    "\n",
    "# 月收入有缺失值，进行填充\n",
    "data=data.fillna({'月收入':data['月收入'].mean()})\n",
    "data.info()\n",
    "data.describe()"
   ]
  },
  {
   "cell_type": "markdown",
   "metadata": {},
   "source": [
    "## 是不是收入越高的人坏账率越低"
   ]
  },
  {
   "cell_type": "code",
   "execution_count": 5,
   "metadata": {},
   "outputs": [
    {
     "data": {
      "text/plain": [
       "<matplotlib.axes._subplots.AxesSubplot at 0x114593668>"
      ]
     },
     "execution_count": 5,
     "metadata": {},
     "output_type": "execute_result"
    },
    {
     "data": {
      "image/png": "[encoded data removed]",
      "text/plain": [
       "<Figure size 432x288 with 1 Axes>"
      ]
     },
     "metadata": {
      "needs_background": "light"
     },
     "output_type": "display_data"
    }
   ],
   "source": [
    "# 因为月收入属于连续值，一般将连续值离散化\n",
    "cut_bins = [0,5000,10000,15000,20000,100000]\n",
    "income_cut=pd.cut(data['月收入'],cut_bins)\n",
    "income_cut\n",
    "all_income_users = data['好坏客户'].groupby(income_cut).count()\n",
    "bad_income_users = data['好坏客户'].groupby(income_cut).sum()\n",
    "bad_rate = bad_income_users/all_income_users\n",
    "bad_rate\n",
    "bad_rate.plot.bar()"
   ]
  },
  {
   "cell_type": "markdown",
   "metadata": {},
   "source": [
    "## 年龄和坏账率有什么关系"
   ]
  },
  {
   "cell_type": "code",
   "execution_count": 6,
   "metadata": {},
   "outputs": [
    {
     "data": {
      "text/plain": [
       "<matplotlib.axes._subplots.AxesSubplot at 0x114675cf8>"
      ]
     },
     "execution_count": 6,
     "metadata": {},
     "output_type": "execute_result"
    },
    {
     "data": {
      "image/png": "[encoded data removed]",
      "text/plain": [
       "<Figure size 432x288 with 1 Axes>"
      ]
     },
     "metadata": {
      "needs_background": "light"
     },
     "output_type": "display_data"
    }
   ],
   "source": [
    "# 年龄也是连续值\n",
    "age_cut=pd.cut(data[\"年龄\"],6)\n",
    "all_age_user = data[\"好坏客户\"].groupby(age_cut).count()\n",
    "bad_age_user = data[\"好坏客户\"].groupby(age_cut).sum()\n",
    "bad_rate = bad_age_user/all_age_user\n",
    "bad_rate\n",
    "bad_rate.plot.bar()"
   ]
  },
  {
   "cell_type": "markdown",
   "metadata": {},
   "source": [
    "## 家庭人口数量和坏账率的关系"
   ]
  },
  {
   "cell_type": "code",
   "execution_count": 7,
   "metadata": {},
   "outputs": [
    {
     "data": {
      "text/plain": [
       "<matplotlib.axes._subplots.AxesSubplot at 0x1147350f0>"
      ]
     },
     "execution_count": 7,
     "metadata": {},
     "output_type": "execute_result"
    },
    {
     "data": {
      "image/png": "[encoded data removed]",
      "text/plain": [
       "<Figure size 432x288 with 1 Axes>"
      ]
     },
     "metadata": {
      "needs_background": "light"
     },
     "output_type": "display_data"
    }
   ],
   "source": [
    "all_age_user = data.groupby(\"家属数量\")[\"好坏客户\"].count()\n",
    "bad_age_user = data.groupby(\"家属数量\")[\"好坏客户\"].sum()\n",
    "bad_rate = bad_age_user/all_age_user\n",
    "bad_rate\n",
    "bad_rate.plot.bar()"
   ]
  },
  {
   "cell_type": "code",
   "execution_count": null,
   "metadata": {},
   "outputs": [],
   "source": []
  }
 ],
 "metadata": {
  "kernelspec": {
   "display_name": "Python 3",
   "language": "python",
   "name": "python3"
  },
  "language_info": {
   "codemirror_mode": {
    "name": "ipython",
    "version": 3
   },
   "file_extension": ".py",
   "mimetype": "text/x-python",
   "name": "python",
   "nbconvert_exporter": "python",
   "pygments_lexer": "ipython3",
   "version": "3.7.2"
  },
  "toc": {
   "base_numbering": 1,
   "nav_menu": {},
   "number_sections": false,
   "sideBar": true,
   "skip_h1_title": false,
   "title_cell": "Table of Contents",
   "title_sidebar": "Contents",
   "toc_cell": false,
   "toc_position": {},
   "toc_section_display": true,
   "toc_window_display": true
  }
 },
 "nbformat": 4,
 "nbformat_minor": 2
}
